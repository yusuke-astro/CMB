{
 "cells": [
  {
   "cell_type": "code",
   "execution_count": 1,
   "metadata": {},
   "outputs": [
    {
     "name": "stdout",
     "output_type": "stream",
     "text": [
      "CPU times: user 3 µs, sys: 0 ns, total: 3 µs\n",
      "Wall time: 5.72 µs\n"
     ]
    }
   ],
   "source": [
    "%time\n",
    "import numpy as np\n",
    "import healpy as hp\n",
    "import matplotlib.pyplot as plt\n",
    "from mpl_toolkits.mplot3d import Axes3D\n",
    "from functools import lru_cache"
   ]
  },
  {
   "cell_type": "code",
   "execution_count": 2,
   "metadata": {},
   "outputs": [
    {
     "name": "stdout",
     "output_type": "stream",
     "text": [
      "CPU times: user 1 µs, sys: 0 ns, total: 1 µs\n",
      "Wall time: 3.81 µs\n"
     ]
    }
   ],
   "source": [
    "%time\n",
    "@lru_cache()\n",
    "def create_mollweide_axes():\n",
    "    fig = plt.figure(figsize=(10,10))\n",
    "    ax = fig.add_subplot(111, projection=\"mollweide\")\n",
    "    return ax\n",
    "\n",
    "def rot_x(Vect,phi):\n",
    "    mat_rot1 = np.array([[1,0,0],[0,np.cos(phi),-np.sin(phi)],[0,np.sin(phi),np.cos(phi)]])\n",
    "    vect_2 = mat_rot1.dot(Vect)\n",
    "    return vect_2\n",
    "\n",
    "def rot_z(Vect,phi):\n",
    "    mat_rot1 = np.array([[np.cos(phi),-np.sin(phi),0],[np.sin(phi),np.cos(phi),0],[0,0,1]])\n",
    "    vect_2 = mat_rot1.dot(Vect)\n",
    "    return vect_2\n",
    "\n",
    "def rot_psi(Vect,U,psi):#U=beta\n",
    "    ux = U[0]\n",
    "    uy = U[1]\n",
    "    uz = U[2]\n",
    "    c = np.cos(psi)\n",
    "    s = np.sin(psi)\n",
    "    mat_rot2 = np.array([\n",
    "        [ux**2*(1-c)+c , ux*uy*(1-c)-uz*s , ux*uz*(1-c)+uy*s],\n",
    "        [ux*uy*(1-c)+uz*s , uy**2*(1-c)+c , uz*uy*(1-c)-ux*s],\n",
    "        [ux*uz*(1-c)-uy*s , uz*uy*(1-c)+ux*s , uy**2*(1-c)+c]\n",
    "        ])\n",
    "    vect_2 = mat_rot2.dot(Vect)\n",
    "    return vect_2"
   ]
  },
  {
   "cell_type": "code",
   "execution_count": 3,
   "metadata": {},
   "outputs": [
    {
     "name": "stdout",
     "output_type": "stream",
     "text": [
      "CPU times: user 2 µs, sys: 0 ns, total: 2 µs\n",
      "Wall time: 6.2 µs\n"
     ]
    }
   ],
   "source": [
    "%time\n",
    "NSIDE = 128\n",
    "NPIX = hp.nside2npix(NSIDE)\n",
    "I_lu = np.zeros(NPIX)\n",
    "vec = np.array([np.cos(np.radians(95)),np.sin(np.radians(95)),0])\n",
    "beta = np.array([np.cos(np.radians(45)),np.sin(np.radians(45)),0])\n",
    "\n",
    "day = 60*60*24#1日の秒数\n",
    "year = day*365\n",
    "times = year\n",
    "\n",
    "phi = []\n",
    "psi = []\n",
    "eta = []\n",
    "\n",
    "Vect1deg = [[],[],[]]\n",
    "Vect2deg = [[], []]\n",
    "map_2D = [[],[]]\n"
   ]
  },
  {
   "cell_type": "code",
   "execution_count": 4,
   "metadata": {},
   "outputs": [
    {
     "name": "stdout",
     "output_type": "stream",
     "text": [
      "CPU times: user 2 µs, sys: 0 ns, total: 2 µs\n",
      "Wall time: 6.2 µs\n"
     ]
    }
   ],
   "source": [
    "%time\n",
    "for t in range(times):\n",
    "    psi.append(2*np.pi*t/600)#600=10分で１週\n",
    "    phi.append(2*np.pi*t/5760)#5760=96分で地球を一周\n",
    "    eta.append(2*np.pi*t/year)"
   ]
  },
  {
   "cell_type": "code",
   "execution_count": null,
   "metadata": {},
   "outputs": [
    {
     "name": "stdout",
     "output_type": "stream",
     "text": [
      "CPU times: user 2 µs, sys: 1e+03 ns, total: 3 µs\n",
      "Wall time: 3.1 µs\n"
     ]
    }
   ],
   "source": [
    "%time\n",
    "for i in range(times):\n",
    "    rott1 = rot_psi(vec,beta,psi[i])\n",
    "    rott2 = rot_x(rott1,phi[i])\n",
    "    rott3 = rot_z(rott2,eta[i])\n",
    "    Vect1deg[0].append(rott3[0])\n",
    "    Vect1deg[1].append(rott3[1])\n",
    "    Vect1deg[2].append(rott3[2])"
   ]
  },
  {
   "cell_type": "code",
   "execution_count": null,
   "metadata": {},
   "outputs": [],
   "source": [
    "%time\n",
    "for i in range(times):\n",
    "    keido = np.arcsin(Vect1deg[2][i])\n",
    "    ido = np.arcsin(Vect1deg[1][i]/np.cos(keido))\n",
    "    Vect2deg[0].append(keido)\n",
    "    Vect2deg[1].append(ido)"
   ]
  },
  {
   "cell_type": "code",
   "execution_count": null,
   "metadata": {},
   "outputs": [],
   "source": [
    "%time\n",
    "Vect1deg = np.array(Vect1deg)\n",
    "pix_d = hp.vec2pix(NSIDE,Vect1deg[0],Vect1deg[1],Vect1deg[2])\n",
    "for i in range(times):\n",
    "    I_lu[pix_d[i]] += 1\n",
    "np.savetxt('np_savetxt04.txt', I_lu)"
   ]
  },
  {
   "cell_type": "code",
   "execution_count": null,
   "metadata": {},
   "outputs": [],
   "source": [
    "hp.mollview(I_lu)\n",
    "hp.graticule()"
   ]
  },
  {
   "cell_type": "code",
   "execution_count": null,
   "metadata": {},
   "outputs": [],
   "source": []
  }
 ],
 "metadata": {
  "kernelspec": {
   "display_name": "Python 3",
   "language": "python",
   "name": "python3"
  },
  "language_info": {
   "codemirror_mode": {
    "name": "ipython",
    "version": 3
   },
   "file_extension": ".py",
   "mimetype": "text/x-python",
   "name": "python",
   "nbconvert_exporter": "python",
   "pygments_lexer": "ipython3",
   "version": "3.8.0"
  }
 },
 "nbformat": 4,
 "nbformat_minor": 4
}
